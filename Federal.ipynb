{
 "cells": [
  {
   "cell_type": "markdown",
   "metadata": {},
   "source": [
    "### Krishna Mridha\n",
    "\n",
    "#### The Spark Foundation Internship December - 20\n",
    "\n",
    "##### Data Science & Business Analytics , Task - 7\n",
    "\n",
    "\n",
    "#### Description: This program uses an artificial recurrent neural network called Long Short Term Memory(LSTM) to predict the closing stock price of a Bank (Federal Bank) using the past 60 days stock price."
   ]
  },
  {
   "cell_type": "code",
   "execution_count": 1,
   "metadata": {},
   "outputs": [],
   "source": [
    "#Import Libaries\n",
    "import pandas as pd\n",
    "import math\n",
    "import numpy as np\n",
    "from sklearn.preprocessing import MinMaxScaler\n",
    "from keras.models import Sequential\n",
    "from keras.layers import Dense, LSTM\n",
    "import matplotlib.pyplot as plt\n",
    "plt.style.use(\"fivethirtyeight\")"
   ]
  },
  {
   "cell_type": "code",
   "execution_count": 2,
   "metadata": {},
   "outputs": [],
   "source": [
    "#Read the dataset\n",
    "df = pd.read_csv('FEDERAL BANK LTD..csv')"
   ]
  },
  {
   "cell_type": "code",
   "execution_count": 3,
   "metadata": {},
   "outputs": [
    {
     "data": {
      "text/html": [
       "<div>\n",
       "<style scoped>\n",
       "    .dataframe tbody tr th:only-of-type {\n",
       "        vertical-align: middle;\n",
       "    }\n",
       "\n",
       "    .dataframe tbody tr th {\n",
       "        vertical-align: top;\n",
       "    }\n",
       "\n",
       "    .dataframe thead th {\n",
       "        text-align: right;\n",
       "    }\n",
       "</style>\n",
       "<table border=\"1\" class=\"dataframe\">\n",
       "  <thead>\n",
       "    <tr style=\"text-align: right;\">\n",
       "      <th></th>\n",
       "      <th>Date</th>\n",
       "      <th>Open Price</th>\n",
       "      <th>High Price</th>\n",
       "      <th>Low Price</th>\n",
       "      <th>Close Price</th>\n",
       "      <th>WAP</th>\n",
       "      <th>No.of Shares</th>\n",
       "      <th>No. of Trades</th>\n",
       "      <th>Total Turnover (Rs.)</th>\n",
       "      <th>Deliverable Quantity</th>\n",
       "      <th>% Deli. Qty to Traded Qty</th>\n",
       "      <th>Spread High-Low</th>\n",
       "      <th>Spread Close-Open</th>\n",
       "    </tr>\n",
       "  </thead>\n",
       "  <tbody>\n",
       "    <tr>\n",
       "      <th>0</th>\n",
       "      <td>20-November-2020</td>\n",
       "      <td>58.55</td>\n",
       "      <td>59.35</td>\n",
       "      <td>56.90</td>\n",
       "      <td>58.45</td>\n",
       "      <td>58.074926</td>\n",
       "      <td>2669451</td>\n",
       "      <td>19713</td>\n",
       "      <td>155028169.0</td>\n",
       "      <td>753091.0</td>\n",
       "      <td>28.21</td>\n",
       "      <td>2.45</td>\n",
       "      <td>-0.10</td>\n",
       "    </tr>\n",
       "    <tr>\n",
       "      <th>1</th>\n",
       "      <td>19-November-2020</td>\n",
       "      <td>61.85</td>\n",
       "      <td>61.90</td>\n",
       "      <td>58.10</td>\n",
       "      <td>58.60</td>\n",
       "      <td>59.961538</td>\n",
       "      <td>3796037</td>\n",
       "      <td>26660</td>\n",
       "      <td>227616218.0</td>\n",
       "      <td>1332355.0</td>\n",
       "      <td>35.10</td>\n",
       "      <td>3.80</td>\n",
       "      <td>-3.25</td>\n",
       "    </tr>\n",
       "    <tr>\n",
       "      <th>2</th>\n",
       "      <td>18-November-2020</td>\n",
       "      <td>58.00</td>\n",
       "      <td>62.50</td>\n",
       "      <td>57.25</td>\n",
       "      <td>61.90</td>\n",
       "      <td>60.240697</td>\n",
       "      <td>2778081</td>\n",
       "      <td>34186</td>\n",
       "      <td>167353537.0</td>\n",
       "      <td>762623.0</td>\n",
       "      <td>27.45</td>\n",
       "      <td>5.25</td>\n",
       "      <td>3.90</td>\n",
       "    </tr>\n",
       "    <tr>\n",
       "      <th>3</th>\n",
       "      <td>17-November-2020</td>\n",
       "      <td>57.00</td>\n",
       "      <td>58.55</td>\n",
       "      <td>57.00</td>\n",
       "      <td>58.00</td>\n",
       "      <td>57.980614</td>\n",
       "      <td>2592596</td>\n",
       "      <td>11282</td>\n",
       "      <td>150320308.0</td>\n",
       "      <td>1264994.0</td>\n",
       "      <td>48.79</td>\n",
       "      <td>1.55</td>\n",
       "      <td>1.00</td>\n",
       "    </tr>\n",
       "    <tr>\n",
       "      <th>4</th>\n",
       "      <td>14-November-2020</td>\n",
       "      <td>57.45</td>\n",
       "      <td>57.45</td>\n",
       "      <td>56.15</td>\n",
       "      <td>56.60</td>\n",
       "      <td>56.769441</td>\n",
       "      <td>208823</td>\n",
       "      <td>931</td>\n",
       "      <td>11854765.0</td>\n",
       "      <td>108898.0</td>\n",
       "      <td>52.15</td>\n",
       "      <td>1.30</td>\n",
       "      <td>-0.85</td>\n",
       "    </tr>\n",
       "  </tbody>\n",
       "</table>\n",
       "</div>"
      ],
      "text/plain": [
       "               Date  Open Price  High Price  Low Price  Close Price  \\\n",
       "0  20-November-2020       58.55       59.35      56.90        58.45   \n",
       "1  19-November-2020       61.85       61.90      58.10        58.60   \n",
       "2  18-November-2020       58.00       62.50      57.25        61.90   \n",
       "3  17-November-2020       57.00       58.55      57.00        58.00   \n",
       "4  14-November-2020       57.45       57.45      56.15        56.60   \n",
       "\n",
       "         WAP  No.of Shares  No. of Trades  Total Turnover (Rs.)  \\\n",
       "0  58.074926       2669451          19713           155028169.0   \n",
       "1  59.961538       3796037          26660           227616218.0   \n",
       "2  60.240697       2778081          34186           167353537.0   \n",
       "3  57.980614       2592596          11282           150320308.0   \n",
       "4  56.769441        208823            931            11854765.0   \n",
       "\n",
       "   Deliverable Quantity  % Deli. Qty to Traded Qty  Spread High-Low  \\\n",
       "0              753091.0                      28.21             2.45   \n",
       "1             1332355.0                      35.10             3.80   \n",
       "2              762623.0                      27.45             5.25   \n",
       "3             1264994.0                      48.79             1.55   \n",
       "4              108898.0                      52.15             1.30   \n",
       "\n",
       "   Spread Close-Open  \n",
       "0              -0.10  \n",
       "1              -3.25  \n",
       "2               3.90  \n",
       "3               1.00  \n",
       "4              -0.85  "
      ]
     },
     "execution_count": 3,
     "metadata": {},
     "output_type": "execute_result"
    }
   ],
   "source": [
    "df.head()"
   ]
  },
  {
   "cell_type": "code",
   "execution_count": 4,
   "metadata": {},
   "outputs": [],
   "source": [
    "# Covert texttual date to date\n",
    "df['Date'] = pd.to_datetime(df['Date'])"
   ]
  },
  {
   "cell_type": "code",
   "execution_count": 5,
   "metadata": {},
   "outputs": [],
   "source": [
    "#df = df[['Date','Open Price','High Price','Low Price','Close Price', 'No.of Shares']]"
   ]
  },
  {
   "cell_type": "code",
   "execution_count": 6,
   "metadata": {},
   "outputs": [
    {
     "data": {
      "text/html": [
       "<div>\n",
       "<style scoped>\n",
       "    .dataframe tbody tr th:only-of-type {\n",
       "        vertical-align: middle;\n",
       "    }\n",
       "\n",
       "    .dataframe tbody tr th {\n",
       "        vertical-align: top;\n",
       "    }\n",
       "\n",
       "    .dataframe thead th {\n",
       "        text-align: right;\n",
       "    }\n",
       "</style>\n",
       "<table border=\"1\" class=\"dataframe\">\n",
       "  <thead>\n",
       "    <tr style=\"text-align: right;\">\n",
       "      <th></th>\n",
       "      <th>Date</th>\n",
       "      <th>Open Price</th>\n",
       "      <th>High Price</th>\n",
       "      <th>Low Price</th>\n",
       "      <th>Close Price</th>\n",
       "      <th>WAP</th>\n",
       "      <th>No.of Shares</th>\n",
       "      <th>No. of Trades</th>\n",
       "      <th>Total Turnover (Rs.)</th>\n",
       "      <th>Deliverable Quantity</th>\n",
       "      <th>% Deli. Qty to Traded Qty</th>\n",
       "      <th>Spread High-Low</th>\n",
       "      <th>Spread Close-Open</th>\n",
       "    </tr>\n",
       "  </thead>\n",
       "  <tbody>\n",
       "    <tr>\n",
       "      <th>0</th>\n",
       "      <td>2020-11-20</td>\n",
       "      <td>58.55</td>\n",
       "      <td>59.35</td>\n",
       "      <td>56.90</td>\n",
       "      <td>58.45</td>\n",
       "      <td>58.074926</td>\n",
       "      <td>2669451</td>\n",
       "      <td>19713</td>\n",
       "      <td>155028169.0</td>\n",
       "      <td>753091.0</td>\n",
       "      <td>28.21</td>\n",
       "      <td>2.45</td>\n",
       "      <td>-0.10</td>\n",
       "    </tr>\n",
       "    <tr>\n",
       "      <th>1</th>\n",
       "      <td>2020-11-19</td>\n",
       "      <td>61.85</td>\n",
       "      <td>61.90</td>\n",
       "      <td>58.10</td>\n",
       "      <td>58.60</td>\n",
       "      <td>59.961538</td>\n",
       "      <td>3796037</td>\n",
       "      <td>26660</td>\n",
       "      <td>227616218.0</td>\n",
       "      <td>1332355.0</td>\n",
       "      <td>35.10</td>\n",
       "      <td>3.80</td>\n",
       "      <td>-3.25</td>\n",
       "    </tr>\n",
       "    <tr>\n",
       "      <th>2</th>\n",
       "      <td>2020-11-18</td>\n",
       "      <td>58.00</td>\n",
       "      <td>62.50</td>\n",
       "      <td>57.25</td>\n",
       "      <td>61.90</td>\n",
       "      <td>60.240697</td>\n",
       "      <td>2778081</td>\n",
       "      <td>34186</td>\n",
       "      <td>167353537.0</td>\n",
       "      <td>762623.0</td>\n",
       "      <td>27.45</td>\n",
       "      <td>5.25</td>\n",
       "      <td>3.90</td>\n",
       "    </tr>\n",
       "    <tr>\n",
       "      <th>3</th>\n",
       "      <td>2020-11-17</td>\n",
       "      <td>57.00</td>\n",
       "      <td>58.55</td>\n",
       "      <td>57.00</td>\n",
       "      <td>58.00</td>\n",
       "      <td>57.980614</td>\n",
       "      <td>2592596</td>\n",
       "      <td>11282</td>\n",
       "      <td>150320308.0</td>\n",
       "      <td>1264994.0</td>\n",
       "      <td>48.79</td>\n",
       "      <td>1.55</td>\n",
       "      <td>1.00</td>\n",
       "    </tr>\n",
       "    <tr>\n",
       "      <th>4</th>\n",
       "      <td>2020-11-14</td>\n",
       "      <td>57.45</td>\n",
       "      <td>57.45</td>\n",
       "      <td>56.15</td>\n",
       "      <td>56.60</td>\n",
       "      <td>56.769441</td>\n",
       "      <td>208823</td>\n",
       "      <td>931</td>\n",
       "      <td>11854765.0</td>\n",
       "      <td>108898.0</td>\n",
       "      <td>52.15</td>\n",
       "      <td>1.30</td>\n",
       "      <td>-0.85</td>\n",
       "    </tr>\n",
       "    <tr>\n",
       "      <th>...</th>\n",
       "      <td>...</td>\n",
       "      <td>...</td>\n",
       "      <td>...</td>\n",
       "      <td>...</td>\n",
       "      <td>...</td>\n",
       "      <td>...</td>\n",
       "      <td>...</td>\n",
       "      <td>...</td>\n",
       "      <td>...</td>\n",
       "      <td>...</td>\n",
       "      <td>...</td>\n",
       "      <td>...</td>\n",
       "      <td>...</td>\n",
       "    </tr>\n",
       "    <tr>\n",
       "      <th>5190</th>\n",
       "      <td>2000-01-07</td>\n",
       "      <td>50.00</td>\n",
       "      <td>50.00</td>\n",
       "      <td>47.00</td>\n",
       "      <td>47.00</td>\n",
       "      <td>48.723850</td>\n",
       "      <td>17610</td>\n",
       "      <td>107</td>\n",
       "      <td>858027.0</td>\n",
       "      <td>NaN</td>\n",
       "      <td>NaN</td>\n",
       "      <td>3.00</td>\n",
       "      <td>-3.00</td>\n",
       "    </tr>\n",
       "    <tr>\n",
       "      <th>5191</th>\n",
       "      <td>2000-01-06</td>\n",
       "      <td>49.00</td>\n",
       "      <td>51.00</td>\n",
       "      <td>49.00</td>\n",
       "      <td>50.00</td>\n",
       "      <td>50.324267</td>\n",
       "      <td>11250</td>\n",
       "      <td>71</td>\n",
       "      <td>566148.0</td>\n",
       "      <td>NaN</td>\n",
       "      <td>NaN</td>\n",
       "      <td>2.00</td>\n",
       "      <td>1.00</td>\n",
       "    </tr>\n",
       "    <tr>\n",
       "      <th>5192</th>\n",
       "      <td>2000-01-05</td>\n",
       "      <td>53.95</td>\n",
       "      <td>53.95</td>\n",
       "      <td>49.50</td>\n",
       "      <td>49.50</td>\n",
       "      <td>50.386878</td>\n",
       "      <td>11050</td>\n",
       "      <td>70</td>\n",
       "      <td>556775.0</td>\n",
       "      <td>NaN</td>\n",
       "      <td>NaN</td>\n",
       "      <td>4.45</td>\n",
       "      <td>-4.45</td>\n",
       "    </tr>\n",
       "    <tr>\n",
       "      <th>5193</th>\n",
       "      <td>2000-01-04</td>\n",
       "      <td>59.30</td>\n",
       "      <td>59.30</td>\n",
       "      <td>52.00</td>\n",
       "      <td>53.75</td>\n",
       "      <td>53.517233</td>\n",
       "      <td>16712</td>\n",
       "      <td>118</td>\n",
       "      <td>894380.0</td>\n",
       "      <td>NaN</td>\n",
       "      <td>NaN</td>\n",
       "      <td>7.30</td>\n",
       "      <td>-5.55</td>\n",
       "    </tr>\n",
       "    <tr>\n",
       "      <th>5194</th>\n",
       "      <td>2000-01-03</td>\n",
       "      <td>50.25</td>\n",
       "      <td>55.00</td>\n",
       "      <td>50.25</td>\n",
       "      <td>55.00</td>\n",
       "      <td>54.327769</td>\n",
       "      <td>13180</td>\n",
       "      <td>79</td>\n",
       "      <td>716040.0</td>\n",
       "      <td>NaN</td>\n",
       "      <td>NaN</td>\n",
       "      <td>4.75</td>\n",
       "      <td>4.75</td>\n",
       "    </tr>\n",
       "  </tbody>\n",
       "</table>\n",
       "<p>5195 rows × 13 columns</p>\n",
       "</div>"
      ],
      "text/plain": [
       "           Date  Open Price  High Price  Low Price  Close Price        WAP  \\\n",
       "0    2020-11-20       58.55       59.35      56.90        58.45  58.074926   \n",
       "1    2020-11-19       61.85       61.90      58.10        58.60  59.961538   \n",
       "2    2020-11-18       58.00       62.50      57.25        61.90  60.240697   \n",
       "3    2020-11-17       57.00       58.55      57.00        58.00  57.980614   \n",
       "4    2020-11-14       57.45       57.45      56.15        56.60  56.769441   \n",
       "...         ...         ...         ...        ...          ...        ...   \n",
       "5190 2000-01-07       50.00       50.00      47.00        47.00  48.723850   \n",
       "5191 2000-01-06       49.00       51.00      49.00        50.00  50.324267   \n",
       "5192 2000-01-05       53.95       53.95      49.50        49.50  50.386878   \n",
       "5193 2000-01-04       59.30       59.30      52.00        53.75  53.517233   \n",
       "5194 2000-01-03       50.25       55.00      50.25        55.00  54.327769   \n",
       "\n",
       "      No.of Shares  No. of Trades  Total Turnover (Rs.)  Deliverable Quantity  \\\n",
       "0          2669451          19713           155028169.0              753091.0   \n",
       "1          3796037          26660           227616218.0             1332355.0   \n",
       "2          2778081          34186           167353537.0              762623.0   \n",
       "3          2592596          11282           150320308.0             1264994.0   \n",
       "4           208823            931            11854765.0              108898.0   \n",
       "...            ...            ...                   ...                   ...   \n",
       "5190         17610            107              858027.0                   NaN   \n",
       "5191         11250             71              566148.0                   NaN   \n",
       "5192         11050             70              556775.0                   NaN   \n",
       "5193         16712            118              894380.0                   NaN   \n",
       "5194         13180             79              716040.0                   NaN   \n",
       "\n",
       "      % Deli. Qty to Traded Qty  Spread High-Low  Spread Close-Open  \n",
       "0                         28.21             2.45              -0.10  \n",
       "1                         35.10             3.80              -3.25  \n",
       "2                         27.45             5.25               3.90  \n",
       "3                         48.79             1.55               1.00  \n",
       "4                         52.15             1.30              -0.85  \n",
       "...                         ...              ...                ...  \n",
       "5190                        NaN             3.00              -3.00  \n",
       "5191                        NaN             2.00               1.00  \n",
       "5192                        NaN             4.45              -4.45  \n",
       "5193                        NaN             7.30              -5.55  \n",
       "5194                        NaN             4.75               4.75  \n",
       "\n",
       "[5195 rows x 13 columns]"
      ]
     },
     "execution_count": 6,
     "metadata": {},
     "output_type": "execute_result"
    }
   ],
   "source": [
    "df"
   ]
  },
  {
   "cell_type": "code",
   "execution_count": 7,
   "metadata": {},
   "outputs": [
    {
     "data": {
      "text/plain": [
       "Date                           0\n",
       "Open Price                     0\n",
       "High Price                     0\n",
       "Low Price                      0\n",
       "Close Price                    0\n",
       "WAP                            0\n",
       "No.of Shares                   0\n",
       "No. of Trades                  0\n",
       "Total Turnover (Rs.)           0\n",
       "Deliverable Quantity         538\n",
       "% Deli. Qty to Traded Qty    538\n",
       "Spread High-Low                0\n",
       "Spread Close-Open              0\n",
       "dtype: int64"
      ]
     },
     "execution_count": 7,
     "metadata": {},
     "output_type": "execute_result"
    }
   ],
   "source": [
    "#check missing values\n",
    "df.isnull().sum()"
   ]
  },
  {
   "cell_type": "code",
   "execution_count": 8,
   "metadata": {},
   "outputs": [],
   "source": [
    "#Filled the missing values with the mean value\n",
    "df['Deliverable Quantity'] = df['Deliverable Quantity'].fillna(df['Deliverable Quantity'].mean())\n",
    "df['% Deli. Qty to Traded Qty'] = df['% Deli. Qty to Traded Qty'].fillna(df['% Deli. Qty to Traded Qty'].mean())"
   ]
  },
  {
   "cell_type": "code",
   "execution_count": 9,
   "metadata": {},
   "outputs": [
    {
     "data": {
      "text/plain": [
       "Date                         0\n",
       "Open Price                   0\n",
       "High Price                   0\n",
       "Low Price                    0\n",
       "Close Price                  0\n",
       "WAP                          0\n",
       "No.of Shares                 0\n",
       "No. of Trades                0\n",
       "Total Turnover (Rs.)         0\n",
       "Deliverable Quantity         0\n",
       "% Deli. Qty to Traded Qty    0\n",
       "Spread High-Low              0\n",
       "Spread Close-Open            0\n",
       "dtype: int64"
      ]
     },
     "execution_count": 9,
     "metadata": {},
     "output_type": "execute_result"
    }
   ],
   "source": [
    "df.isnull().sum()"
   ]
  },
  {
   "cell_type": "code",
   "execution_count": 10,
   "metadata": {},
   "outputs": [
    {
     "data": {
      "image/png": "[encoded data removed]",
      "text/plain": [
       "<Figure size 1152x576 with 1 Axes>"
      ]
     },
     "metadata": {},
     "output_type": "display_data"
    }
   ],
   "source": [
    "#Visualize the closing price history\n",
    "plt.figure(figsize=(16,8))\n",
    "plt.title('Close Price History')\n",
    "plt.plot(df['Close Price'])\n",
    "plt.xlabel('Date',fontsize=18)\n",
    "plt.ylabel('Close Price USD ($)',fontsize=18)\n",
    "plt.show()"
   ]
  },
  {
   "cell_type": "code",
   "execution_count": 11,
   "metadata": {},
   "outputs": [
    {
     "data": {
      "text/plain": [
       "4156"
      ]
     },
     "execution_count": 11,
     "metadata": {},
     "output_type": "execute_result"
    }
   ],
   "source": [
    "#Create a new dataframe with only the 'Close' column\n",
    "data = df.filter(['Close Price'])\n",
    "#Converting the dataframe to a numpy array\n",
    "dataset = data.values\n",
    "#Get /Compute the number of rows to train the model on\n",
    "training_data_len = math.ceil( len(dataset) *.8) \n",
    "\n",
    "training_data_len\n"
   ]
  },
  {
   "cell_type": "code",
   "execution_count": 12,
   "metadata": {},
   "outputs": [
    {
     "data": {
      "text/plain": [
       "5195"
      ]
     },
     "execution_count": 12,
     "metadata": {},
     "output_type": "execute_result"
    }
   ],
   "source": [
    "len(dataset)"
   ]
  },
  {
   "cell_type": "code",
   "execution_count": 13,
   "metadata": {},
   "outputs": [
    {
     "data": {
      "text/plain": [
       "1039"
      ]
     },
     "execution_count": 13,
     "metadata": {},
     "output_type": "execute_result"
    }
   ],
   "source": [
    "check = len(dataset)-training_data_len\n",
    "check"
   ]
  },
  {
   "cell_type": "code",
   "execution_count": 14,
   "metadata": {},
   "outputs": [
    {
     "data": {
      "text/plain": [
       "array([[0.04927849],\n",
       "       [0.04957299],\n",
       "       [0.05605183],\n",
       "       ...,\n",
       "       [0.03170708],\n",
       "       [0.04005105],\n",
       "       [0.04250515]])"
      ]
     },
     "execution_count": 14,
     "metadata": {},
     "output_type": "execute_result"
    }
   ],
   "source": [
    "# Scaled the data\n",
    "scaler = MinMaxScaler(feature_range=(0,1))\n",
    "scaled_data = scaler.fit_transform(dataset)\n",
    "\n",
    "scaled_data"
   ]
  },
  {
   "cell_type": "code",
   "execution_count": 15,
   "metadata": {},
   "outputs": [
    {
     "data": {
      "text/plain": [
       "4156"
      ]
     },
     "execution_count": 15,
     "metadata": {},
     "output_type": "execute_result"
    }
   ],
   "source": [
    "k = scaled_data[check:,: ]\n",
    "len(k)"
   ]
  },
  {
   "cell_type": "code",
   "execution_count": 16,
   "metadata": {},
   "outputs": [],
   "source": [
    "#Create the scaled training data set \n",
    "train_data = scaled_data[check: ,: ]\n",
    "#Split the data into x_train and y_train data sets\n",
    "x_train=[]\n",
    "y_train = []\n",
    "for i in range(60,len(train_data)):\n",
    "    x_train.append(train_data[i-60:i,0])\n",
    "    y_train.append(train_data[i,0])"
   ]
  },
  {
   "cell_type": "code",
   "execution_count": 17,
   "metadata": {},
   "outputs": [],
   "source": [
    "#Convert x_train and y_train to numpy arrays\n",
    "x_train, y_train = np.array(x_train), np.array(y_train)"
   ]
  },
  {
   "cell_type": "code",
   "execution_count": 18,
   "metadata": {},
   "outputs": [
    {
     "data": {
      "text/plain": [
       "(4096, 60)"
      ]
     },
     "execution_count": 18,
     "metadata": {},
     "output_type": "execute_result"
    }
   ],
   "source": [
    "x_train.shape"
   ]
  },
  {
   "cell_type": "code",
   "execution_count": 19,
   "metadata": {},
   "outputs": [],
   "source": [
    "#Reshape the data into the shape accepted by the LSTM\n",
    "x_train = np.reshape(x_train, (x_train.shape[0],x_train.shape[1],1))"
   ]
  },
  {
   "cell_type": "code",
   "execution_count": 20,
   "metadata": {},
   "outputs": [
    {
     "data": {
      "text/plain": [
       "(4096, 60, 1)"
      ]
     },
     "execution_count": 20,
     "metadata": {},
     "output_type": "execute_result"
    }
   ],
   "source": [
    "x_train.shape"
   ]
  },
  {
   "cell_type": "code",
   "execution_count": 21,
   "metadata": {},
   "outputs": [
    {
     "data": {
      "text/plain": [
       "4156"
      ]
     },
     "execution_count": 21,
     "metadata": {},
     "output_type": "execute_result"
    }
   ],
   "source": [
    "len(train_data)"
   ]
  },
  {
   "cell_type": "code",
   "execution_count": 22,
   "metadata": {},
   "outputs": [
    {
     "data": {
      "text/plain": [
       "1039"
      ]
     },
     "execution_count": 22,
     "metadata": {},
     "output_type": "execute_result"
    }
   ],
   "source": [
    "check"
   ]
  },
  {
   "cell_type": "code",
   "execution_count": 23,
   "metadata": {},
   "outputs": [],
   "source": [
    "#Build the LSTM network model\n",
    "model = Sequential()\n",
    "model.add(LSTM(units=50, return_sequences=True,input_shape=(x_train.shape[1],1)))\n",
    "model.add(LSTM(units=50, return_sequences=False))\n",
    "model.add(Dense(units=25))\n",
    "model.add(Dense(units=1))"
   ]
  },
  {
   "cell_type": "code",
   "execution_count": 24,
   "metadata": {},
   "outputs": [],
   "source": [
    "#Compile the model\n",
    "model.compile(optimizer='adam', loss='mean_squared_error')"
   ]
  },
  {
   "cell_type": "code",
   "execution_count": 25,
   "metadata": {},
   "outputs": [
    {
     "name": "stdout",
     "output_type": "stream",
     "text": [
      "4096/4096 [==============================] - 161s 39ms/step - loss: 0.0016\n"
     ]
    },
    {
     "data": {
      "text/plain": [
       "<tensorflow.python.keras.callbacks.History at 0x196e23e8508>"
      ]
     },
     "execution_count": 25,
     "metadata": {},
     "output_type": "execute_result"
    }
   ],
   "source": [
    "#Train the model\n",
    "model.fit(x_train, y_train, batch_size=1, epochs=1)"
   ]
  },
  {
   "cell_type": "code",
   "execution_count": 26,
   "metadata": {},
   "outputs": [],
   "source": [
    "#Test data set\n",
    "test_data = scaled_data[0:check +60, : ]\n",
    "#Create the x_test and y_test data sets\n",
    "x_test = []\n",
    "y_test =  dataset[0 :check, : ] #Get all of the rows from index 1603 to the rest and all of the columns (in this case it's only column 'Close'), so 2003 - 1603 = 400 rows of data\n",
    "for i in range(60,len(test_data)):\n",
    "    x_test.append(test_data[i-60:i,0])"
   ]
  },
  {
   "cell_type": "code",
   "execution_count": 27,
   "metadata": {},
   "outputs": [
    {
     "data": {
      "text/plain": [
       "1039"
      ]
     },
     "execution_count": 27,
     "metadata": {},
     "output_type": "execute_result"
    }
   ],
   "source": [
    "#Convert x_test to a numpy array \n",
    "x_test = np.array(x_test)\n",
    "len(x_test)"
   ]
  },
  {
   "cell_type": "code",
   "execution_count": 28,
   "metadata": {},
   "outputs": [
    {
     "data": {
      "text/plain": [
       "(1099, 1)"
      ]
     },
     "execution_count": 28,
     "metadata": {},
     "output_type": "execute_result"
    }
   ],
   "source": [
    "test_data.shape"
   ]
  },
  {
   "cell_type": "code",
   "execution_count": 29,
   "metadata": {},
   "outputs": [
    {
     "data": {
      "text/plain": [
       "(1039, 1)"
      ]
     },
     "execution_count": 29,
     "metadata": {},
     "output_type": "execute_result"
    }
   ],
   "source": [
    "y_test.shape"
   ]
  },
  {
   "cell_type": "code",
   "execution_count": 30,
   "metadata": {},
   "outputs": [],
   "source": [
    "#Reshape the data into the shape accepted by the LSTM\n",
    "x_test = np.reshape(x_test, (x_test.shape[0],x_test.shape[1],1))"
   ]
  },
  {
   "cell_type": "code",
   "execution_count": 31,
   "metadata": {},
   "outputs": [
    {
     "data": {
      "text/plain": [
       "(1099, 1)"
      ]
     },
     "execution_count": 31,
     "metadata": {},
     "output_type": "execute_result"
    }
   ],
   "source": [
    "test_data.shape"
   ]
  },
  {
   "cell_type": "code",
   "execution_count": 32,
   "metadata": {},
   "outputs": [],
   "source": [
    "#Getting the models predicted price values\n",
    "predictions = model.predict(x_test) \n",
    "predictions = scaler.inverse_transform(predictions)#Undo scaling"
   ]
  },
  {
   "cell_type": "code",
   "execution_count": 33,
   "metadata": {},
   "outputs": [
    {
     "data": {
      "text/plain": [
       "19.67570551079389"
      ]
     },
     "execution_count": 33,
     "metadata": {},
     "output_type": "execute_result"
    }
   ],
   "source": [
    "#Calculate/Get the value of RMSE\n",
    "rmse=np.sqrt(np.mean(((predictions- y_test)**2)))\n",
    "rmse"
   ]
  },
  {
   "cell_type": "code",
   "execution_count": 34,
   "metadata": {},
   "outputs": [
    {
     "name": "stdout",
     "output_type": "stream",
     "text": [
      "MSE: 387.133387347485\n",
      "MAE: 15.073016049015166\n",
      "RMSE: 19.67570551079389\n",
      "MAPE: 0.20861820774255133\n"
     ]
    }
   ],
   "source": [
    "# report performance\n",
    "from sklearn.metrics import mean_absolute_error,mean_squared_error\n",
    "from math import sqrt\n",
    "mse = mean_squared_error(y_test,predictions)\n",
    "print('MSE: '+str(mse))\n",
    "mae = mean_absolute_error(predictions,y_test)\n",
    "print('MAE: '+str(mae))\n",
    "rmse = math.sqrt(mean_squared_error(predictions,y_test))\n",
    "print('RMSE: '+str(rmse))\n",
    "mape = np.mean(np.abs(predictions-y_test)/np.abs(y_test))\n",
    "print('MAPE: '+str(mape))"
   ]
  },
  {
   "cell_type": "code",
   "execution_count": 35,
   "metadata": {},
   "outputs": [
    {
     "name": "stderr",
     "output_type": "stream",
     "text": [
      "C:\\Users\\User\\anaconda3\\lib\\site-packages\\ipykernel_launcher.py:4: SettingWithCopyWarning: \n",
      "A value is trying to be set on a copy of a slice from a DataFrame.\n",
      "Try using .loc[row_indexer,col_indexer] = value instead\n",
      "\n",
      "See the caveats in the documentation: https://pandas.pydata.org/pandas-docs/stable/user_guide/indexing.html#returning-a-view-versus-a-copy\n",
      "  after removing the cwd from sys.path.\n"
     ]
    }
   ],
   "source": [
    "#Plot/Create the data for the graph\n",
    "train = data[check:]\n",
    "valid = data[0:check]\n",
    "valid['Predictions'] = predictions"
   ]
  },
  {
   "cell_type": "code",
   "execution_count": 36,
   "metadata": {},
   "outputs": [
    {
     "data": {
      "text/plain": [
       "1039"
      ]
     },
     "execution_count": 36,
     "metadata": {},
     "output_type": "execute_result"
    }
   ],
   "source": [
    "len(predictions)"
   ]
  },
  {
   "cell_type": "code",
   "execution_count": 37,
   "metadata": {},
   "outputs": [
    {
     "data": {
      "text/plain": [
       "1039"
      ]
     },
     "execution_count": 37,
     "metadata": {},
     "output_type": "execute_result"
    }
   ],
   "source": [
    "len(valid)"
   ]
  },
  {
   "cell_type": "code",
   "execution_count": 41,
   "metadata": {},
   "outputs": [
    {
     "data": {
      "image/png": "[encoded data removed]",
      "text/plain": [
       "<Figure size 1152x576 with 1 Axes>"
      ]
     },
     "metadata": {},
     "output_type": "display_data"
    }
   ],
   "source": [
    "#Visualize the data\n",
    "plt.figure(figsize=(16,8))\n",
    "plt.title('Model')\n",
    "plt.xlabel('Date', fontsize=18)\n",
    "plt.ylabel('Close Price USD ($)', fontsize=18)\n",
    "plt.plot(train['Close Price'])\n",
    "plt.plot(valid[['Close Price', 'Predictions']])\n",
    "plt.legend(['Train', 'Val', 'predictions'], loc='upper right')\n",
    "plt.savefig('full_federal.png')"
   ]
  },
  {
   "cell_type": "code",
   "execution_count": 42,
   "metadata": {},
   "outputs": [
    {
     "data": {
      "image/png": "[encoded data removed]",
      "text/plain": [
       "<Figure size 432x288 with 1 Axes>"
      ]
     },
     "metadata": {},
     "output_type": "display_data"
    }
   ],
   "source": [
    "plt.plot(y_test, color='red', label=\"Actual Stock Price\")\n",
    "plt.plot(predictions, color='green',label='Prediction Stocks value')\n",
    "plt.title('Bank stock ')\n",
    "plt.xlabel('Time')\n",
    "plt.ylabel('Stock price')\n",
    "plt.legend()\n",
    "plt.savefig('actual_predict_federal.png')"
   ]
  },
  {
   "cell_type": "code",
   "execution_count": 40,
   "metadata": {},
   "outputs": [
    {
     "data": {
      "text/html": [
       "<div>\n",
       "<style scoped>\n",
       "    .dataframe tbody tr th:only-of-type {\n",
       "        vertical-align: middle;\n",
       "    }\n",
       "\n",
       "    .dataframe tbody tr th {\n",
       "        vertical-align: top;\n",
       "    }\n",
       "\n",
       "    .dataframe thead th {\n",
       "        text-align: right;\n",
       "    }\n",
       "</style>\n",
       "<table border=\"1\" class=\"dataframe\">\n",
       "  <thead>\n",
       "    <tr style=\"text-align: right;\">\n",
       "      <th></th>\n",
       "      <th>Close Price</th>\n",
       "      <th>Predictions</th>\n",
       "    </tr>\n",
       "  </thead>\n",
       "  <tbody>\n",
       "    <tr>\n",
       "      <th>0</th>\n",
       "      <td>58.45</td>\n",
       "      <td>64.683838</td>\n",
       "    </tr>\n",
       "    <tr>\n",
       "      <th>1</th>\n",
       "      <td>58.60</td>\n",
       "      <td>64.717247</td>\n",
       "    </tr>\n",
       "    <tr>\n",
       "      <th>2</th>\n",
       "      <td>61.90</td>\n",
       "      <td>64.424126</td>\n",
       "    </tr>\n",
       "    <tr>\n",
       "      <th>3</th>\n",
       "      <td>58.00</td>\n",
       "      <td>64.029877</td>\n",
       "    </tr>\n",
       "    <tr>\n",
       "      <th>4</th>\n",
       "      <td>56.60</td>\n",
       "      <td>63.891254</td>\n",
       "    </tr>\n",
       "    <tr>\n",
       "      <th>...</th>\n",
       "      <td>...</td>\n",
       "      <td>...</td>\n",
       "    </tr>\n",
       "    <tr>\n",
       "      <th>1034</th>\n",
       "      <td>71.85</td>\n",
       "      <td>63.785454</td>\n",
       "    </tr>\n",
       "    <tr>\n",
       "      <th>1035</th>\n",
       "      <td>73.95</td>\n",
       "      <td>63.837723</td>\n",
       "    </tr>\n",
       "    <tr>\n",
       "      <th>1036</th>\n",
       "      <td>72.35</td>\n",
       "      <td>64.289246</td>\n",
       "    </tr>\n",
       "    <tr>\n",
       "      <th>1037</th>\n",
       "      <td>71.50</td>\n",
       "      <td>64.791039</td>\n",
       "    </tr>\n",
       "    <tr>\n",
       "      <th>1038</th>\n",
       "      <td>72.40</td>\n",
       "      <td>65.338860</td>\n",
       "    </tr>\n",
       "  </tbody>\n",
       "</table>\n",
       "<p>1039 rows × 2 columns</p>\n",
       "</div>"
      ],
      "text/plain": [
       "      Close Price  Predictions\n",
       "0           58.45    64.683838\n",
       "1           58.60    64.717247\n",
       "2           61.90    64.424126\n",
       "3           58.00    64.029877\n",
       "4           56.60    63.891254\n",
       "...           ...          ...\n",
       "1034        71.85    63.785454\n",
       "1035        73.95    63.837723\n",
       "1036        72.35    64.289246\n",
       "1037        71.50    64.791039\n",
       "1038        72.40    65.338860\n",
       "\n",
       "[1039 rows x 2 columns]"
      ]
     },
     "execution_count": 40,
     "metadata": {},
     "output_type": "execute_result"
    }
   ],
   "source": [
    "valid"
   ]
  },
  {
   "cell_type": "code",
   "execution_count": null,
   "metadata": {},
   "outputs": [],
   "source": []
  }
 ],
 "metadata": {
  "kernelspec": {
   "display_name": "Python 3",
   "language": "python",
   "name": "python3"
  },
  "language_info": {
   "codemirror_mode": {
    "name": "ipython",
    "version": 3
   },
   "file_extension": ".py",
   "mimetype": "text/x-python",
   "name": "python",
   "nbconvert_exporter": "python",
   "pygments_lexer": "ipython3",
   "version": "3.7.6"
  }
 },
 "nbformat": 4,
 "nbformat_minor": 4
}
